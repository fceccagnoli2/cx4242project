{
 "cells": [
  {
   "cell_type": "markdown",
   "metadata": {
    "collapsed": true,
    "pycharm": {
     "name": "#%% md\n"
    }
   },
   "source": [
    "# Imports"
   ]
  },
  {
   "cell_type": "code",
   "execution_count": 1,
   "outputs": [],
   "source": [
    "import numpy as np\n",
    "import pandas\n",
    "import pandas as pd\n",
    "from sklearn.model_selection import cross_val_score, GridSearchCV, cross_validate, train_test_split\n",
    "from sklearn.metrics import accuracy_score, classification_report\n",
    "from sklearn.metrics import mean_squared_error\n",
    "from sklearn.svm import SVC\n",
    "from sklearn.ensemble import RandomForestClassifier\n",
    "from sklearn.preprocessing import StandardScaler, normalize\n",
    "from imblearn.over_sampling import SMOTE\n",
    "from sklearn.linear_model import LogisticRegression\n",
    "from warnings import simplefilter\n",
    "from sklearn.exceptions import ConvergenceWarning\n",
    "import json\n",
    "import time\n",
    "import seaborn as sns\n",
    "from sklearn.linear_model import LinearRegression\n",
    "from tqdm import tqdm\n",
    "from scipy import stats\n",
    "simplefilter(\"ignore\", category=ConvergenceWarning)"
   ],
   "metadata": {
    "collapsed": false,
    "pycharm": {
     "name": "#%%\n"
    }
   }
  },
  {
   "cell_type": "markdown",
   "source": [
    "## Import Data and begin cleaning"
   ],
   "metadata": {
    "collapsed": false,
    "pycharm": {
     "name": "#%% md\n"
    }
   }
  },
  {
   "cell_type": "code",
   "execution_count": 2,
   "outputs": [],
   "source": [
    "path1 = 'dirty_data_large.csv' #name filepath\n",
    "json_cols = ['metadata'] #metadata is hidden in json structure within a column of the data\n",
    "df = pd.read_csv(path1) #read dirty data into a pandas dataframe\n",
    "df['createdAt'] = pd.to_datetime(df['createdAt']) #enfore date-time data type\n",
    "df['last_sale_price'] = df.sort_values(by='createdAt', ascending=False).groupby(['project','tokenId'])['listing_usd_price'].shift(-1) #find the last sale price of every NFT that has more than one transaction\n",
    "df = pd.get_dummies(df, columns=['project']) #Binarize the categorical project variable using one-hot encoding"
   ],
   "metadata": {
    "collapsed": false,
    "pycharm": {
     "name": "#%%\n"
    }
   }
  },
  {
   "cell_type": "code",
   "execution_count": 3,
   "outputs": [],
   "source": [
    "df['price_of_eth'] = df['listing_usd_price'] / df['listing_eth_price'] #get current price of eth\n",
    "df['date_delta'] = (df['createdAt'] - df['createdAt'].min())  / np.timedelta64(1,'D') #find the time since the earliest transaction to pick up trends"
   ],
   "metadata": {
    "collapsed": false,
    "pycharm": {
     "name": "#%%\n"
    }
   }
  },
  {
   "cell_type": "markdown",
   "source": [
    "Look at data to see if it matches our expectations"
   ],
   "metadata": {
    "collapsed": false,
    "pycharm": {
     "name": "#%% md\n"
    }
   }
  },
  {
   "cell_type": "code",
   "execution_count": 5,
   "outputs": [
    {
     "data": {
      "text/plain": "                        _id  \\\n0  615710a4b2fe4c479134364e   \n1  615710a6b2fe4c4791354a8f   \n2  615710a7b2fe4c479135b467   \n3  615710a7b2fe4c479135b467   \n4  615710a7b2fe4c479135b467   \n\n                                       image_url_BIG  \\\n0  https://lh3.googleusercontent.com/jw_je5EhXyyS...   \n1  https://lh3.googleusercontent.com/N8nIM0rKHw3R...   \n2  https://lh3.googleusercontent.com/ZPSrGy7OeeFs...   \n3  https://lh3.googleusercontent.com/ZPSrGy7OeeFs...   \n4  https://lh3.googleusercontent.com/ZPSrGy7OeeFs...   \n\n                                            metadata     rarity  \\\n0  [{\"key\":\"Fur\",\"value\":\"Black\"},{\"key\":\"Backgro...  31.036050   \n1  [{\"key\":\"Background\",\"value\":\"New Punk Blue\"},...   2.159267   \n2  [{\"key\":\"Fur\",\"value\":\"Black\"},{\"key\":\"Earring...   6.840881   \n3  [{\"key\":\"Fur\",\"value\":\"Black\"},{\"key\":\"Earring...   6.840881   \n4  [{\"key\":\"Fur\",\"value\":\"Black\"},{\"key\":\"Earring...   6.840881   \n\n   rarityPercentile  rarityRank  tokenId                        createdAt  \\\n0             97.12       289.0      246        2021-09-24 04:43:44+00:00   \n1             26.46      7355.0      261 2021-09-23 02:03:33.020000+00:00   \n2             77.47      2254.0      285 2021-09-24 04:41:40.101000+00:00   \n3             77.47      2254.0      285 2021-09-24 04:35:53.545000+00:00   \n4             77.47      2254.0      285 2021-09-24 04:41:18.144000+00:00   \n\n   duration  endingPrice  ...  project_boredapeyachtclub  \\\n0       NaN          NaN  ...                          1   \n1       NaN          NaN  ...                          1   \n2       NaN          NaN  ...                          1   \n3       NaN          NaN  ...                          1   \n4       NaN          NaN  ...                          1   \n\n   project_cool-cats-nft  project_creatureworld project_deadfellaz  \\\n0                      0                      0                  0   \n1                      0                      0                  0   \n2                      0                      0                  0   \n3                      0                      0                  0   \n4                      0                      0                  0   \n\n  project_lazy-lions project_pudgypenguins project_robotos-official  \\\n0                  0                     0                        0   \n1                  0                     0                        0   \n2                  0                     0                        0   \n3                  0                     0                        0   \n4                  0                     0                        0   \n\n  project_world-of-women-nft price_of_eth date_delta  \n0                          0      4240.92   8.950299  \n1                          0      4255.78   7.839061  \n2                          0      4238.79   8.948865  \n3                          0      4238.79   8.944854  \n4                          0      4240.92   8.948611  \n\n[5 rows x 32 columns]",
      "text/html": "<div>\n<style scoped>\n    .dataframe tbody tr th:only-of-type {\n        vertical-align: middle;\n    }\n\n    .dataframe tbody tr th {\n        vertical-align: top;\n    }\n\n    .dataframe thead th {\n        text-align: right;\n    }\n</style>\n<table border=\"1\" class=\"dataframe\">\n  <thead>\n    <tr style=\"text-align: right;\">\n      <th></th>\n      <th>_id</th>\n      <th>image_url_BIG</th>\n      <th>metadata</th>\n      <th>rarity</th>\n      <th>rarityPercentile</th>\n      <th>rarityRank</th>\n      <th>tokenId</th>\n      <th>createdAt</th>\n      <th>duration</th>\n      <th>endingPrice</th>\n      <th>...</th>\n      <th>project_boredapeyachtclub</th>\n      <th>project_cool-cats-nft</th>\n      <th>project_creatureworld</th>\n      <th>project_deadfellaz</th>\n      <th>project_lazy-lions</th>\n      <th>project_pudgypenguins</th>\n      <th>project_robotos-official</th>\n      <th>project_world-of-women-nft</th>\n      <th>price_of_eth</th>\n      <th>date_delta</th>\n    </tr>\n  </thead>\n  <tbody>\n    <tr>\n      <th>0</th>\n      <td>615710a4b2fe4c479134364e</td>\n      <td>https://lh3.googleusercontent.com/jw_je5EhXyyS...</td>\n      <td>[{\"key\":\"Fur\",\"value\":\"Black\"},{\"key\":\"Backgro...</td>\n      <td>31.036050</td>\n      <td>97.12</td>\n      <td>289.0</td>\n      <td>246</td>\n      <td>2021-09-24 04:43:44+00:00</td>\n      <td>NaN</td>\n      <td>NaN</td>\n      <td>...</td>\n      <td>1</td>\n      <td>0</td>\n      <td>0</td>\n      <td>0</td>\n      <td>0</td>\n      <td>0</td>\n      <td>0</td>\n      <td>0</td>\n      <td>4240.92</td>\n      <td>8.950299</td>\n    </tr>\n    <tr>\n      <th>1</th>\n      <td>615710a6b2fe4c4791354a8f</td>\n      <td>https://lh3.googleusercontent.com/N8nIM0rKHw3R...</td>\n      <td>[{\"key\":\"Background\",\"value\":\"New Punk Blue\"},...</td>\n      <td>2.159267</td>\n      <td>26.46</td>\n      <td>7355.0</td>\n      <td>261</td>\n      <td>2021-09-23 02:03:33.020000+00:00</td>\n      <td>NaN</td>\n      <td>NaN</td>\n      <td>...</td>\n      <td>1</td>\n      <td>0</td>\n      <td>0</td>\n      <td>0</td>\n      <td>0</td>\n      <td>0</td>\n      <td>0</td>\n      <td>0</td>\n      <td>4255.78</td>\n      <td>7.839061</td>\n    </tr>\n    <tr>\n      <th>2</th>\n      <td>615710a7b2fe4c479135b467</td>\n      <td>https://lh3.googleusercontent.com/ZPSrGy7OeeFs...</td>\n      <td>[{\"key\":\"Fur\",\"value\":\"Black\"},{\"key\":\"Earring...</td>\n      <td>6.840881</td>\n      <td>77.47</td>\n      <td>2254.0</td>\n      <td>285</td>\n      <td>2021-09-24 04:41:40.101000+00:00</td>\n      <td>NaN</td>\n      <td>NaN</td>\n      <td>...</td>\n      <td>1</td>\n      <td>0</td>\n      <td>0</td>\n      <td>0</td>\n      <td>0</td>\n      <td>0</td>\n      <td>0</td>\n      <td>0</td>\n      <td>4238.79</td>\n      <td>8.948865</td>\n    </tr>\n    <tr>\n      <th>3</th>\n      <td>615710a7b2fe4c479135b467</td>\n      <td>https://lh3.googleusercontent.com/ZPSrGy7OeeFs...</td>\n      <td>[{\"key\":\"Fur\",\"value\":\"Black\"},{\"key\":\"Earring...</td>\n      <td>6.840881</td>\n      <td>77.47</td>\n      <td>2254.0</td>\n      <td>285</td>\n      <td>2021-09-24 04:35:53.545000+00:00</td>\n      <td>NaN</td>\n      <td>NaN</td>\n      <td>...</td>\n      <td>1</td>\n      <td>0</td>\n      <td>0</td>\n      <td>0</td>\n      <td>0</td>\n      <td>0</td>\n      <td>0</td>\n      <td>0</td>\n      <td>4238.79</td>\n      <td>8.944854</td>\n    </tr>\n    <tr>\n      <th>4</th>\n      <td>615710a7b2fe4c479135b467</td>\n      <td>https://lh3.googleusercontent.com/ZPSrGy7OeeFs...</td>\n      <td>[{\"key\":\"Fur\",\"value\":\"Black\"},{\"key\":\"Earring...</td>\n      <td>6.840881</td>\n      <td>77.47</td>\n      <td>2254.0</td>\n      <td>285</td>\n      <td>2021-09-24 04:41:18.144000+00:00</td>\n      <td>NaN</td>\n      <td>NaN</td>\n      <td>...</td>\n      <td>1</td>\n      <td>0</td>\n      <td>0</td>\n      <td>0</td>\n      <td>0</td>\n      <td>0</td>\n      <td>0</td>\n      <td>0</td>\n      <td>4240.92</td>\n      <td>8.948611</td>\n    </tr>\n  </tbody>\n</table>\n<p>5 rows × 32 columns</p>\n</div>"
     },
     "execution_count": 5,
     "metadata": {},
     "output_type": "execute_result"
    }
   ],
   "source": [
    "df.head()"
   ],
   "metadata": {
    "collapsed": false,
    "pycharm": {
     "name": "#%%\n"
    }
   }
  },
  {
   "cell_type": "markdown",
   "source": [
    "Check that the last sale price looks accurate"
   ],
   "metadata": {
    "collapsed": false,
    "pycharm": {
     "name": "#%% md\n"
    }
   }
  },
  {
   "cell_type": "code",
   "execution_count": 11,
   "outputs": [
    {
     "data": {
      "text/plain": "        project_lazy-lions  tokenId                        createdAt  \\\n115064                   1      200 2021-09-22 03:43:32.226000+00:00   \n115065                   1      200 2021-09-22 10:47:45.368000+00:00   \n115066                   1      200 2021-09-22 12:57:02.205000+00:00   \n\n        last_sale_price  listing_usd_price  \n115064              NaN           631.2480  \n115065         631.2480           596.0388  \n115066         596.0388           341.5408  ",
      "text/html": "<div>\n<style scoped>\n    .dataframe tbody tr th:only-of-type {\n        vertical-align: middle;\n    }\n\n    .dataframe tbody tr th {\n        vertical-align: top;\n    }\n\n    .dataframe thead th {\n        text-align: right;\n    }\n</style>\n<table border=\"1\" class=\"dataframe\">\n  <thead>\n    <tr style=\"text-align: right;\">\n      <th></th>\n      <th>project_lazy-lions</th>\n      <th>tokenId</th>\n      <th>createdAt</th>\n      <th>last_sale_price</th>\n      <th>listing_usd_price</th>\n    </tr>\n  </thead>\n  <tbody>\n    <tr>\n      <th>115064</th>\n      <td>1</td>\n      <td>200</td>\n      <td>2021-09-22 03:43:32.226000+00:00</td>\n      <td>NaN</td>\n      <td>631.2480</td>\n    </tr>\n    <tr>\n      <th>115065</th>\n      <td>1</td>\n      <td>200</td>\n      <td>2021-09-22 10:47:45.368000+00:00</td>\n      <td>631.2480</td>\n      <td>596.0388</td>\n    </tr>\n    <tr>\n      <th>115066</th>\n      <td>1</td>\n      <td>200</td>\n      <td>2021-09-22 12:57:02.205000+00:00</td>\n      <td>596.0388</td>\n      <td>341.5408</td>\n    </tr>\n  </tbody>\n</table>\n</div>"
     },
     "execution_count": 11,
     "metadata": {},
     "output_type": "execute_result"
    }
   ],
   "source": [
    "df[(df['project_lazy-lions']==1) & (df['tokenId']==200)][['project_lazy-lions','tokenId','createdAt','last_sale_price','listing_usd_price']]"
   ],
   "metadata": {
    "collapsed": false,
    "pycharm": {
     "name": "#%%\n"
    }
   }
  },
  {
   "cell_type": "markdown",
   "source": [
    "Great. Everything looks in perfect order. Now let's unpack the metadata.\n",
    "\n",
    "This will take a while."
   ],
   "metadata": {
    "collapsed": false,
    "pycharm": {
     "name": "#%% md\n"
    }
   }
  },
  {
   "cell_type": "code",
   "execution_count": 4,
   "outputs": [],
   "source": [
    "#Function to unwrap meta data hidden in json\n",
    "def clean_json2(x):\n",
    "\n",
    "    # store values\n",
    "    ls = []\n",
    "    datahouse = json.loads(x[0])\n",
    "    # loop through the list f dictionaries\n",
    "    for y in range(len(datahouse)):\n",
    "\n",
    "        # Access each key and value in each dictionary\n",
    "        for k, v in datahouse[y].items():\n",
    "            # append column names to ls\n",
    "            ls.append(str(k)+ \"_\" +str(v))\n",
    "\n",
    "    # create a new column or change 0 to 1 if keyword exists\n",
    "    for z in range(len(ls)):\n",
    "\n",
    "        # If column not in the df columns then make a new column and assign zero values while changing the current row to 1\n",
    "        if ls[z] not in df.columns:\n",
    "            df[ls[z]] = 0\n",
    "            df[ls[z]].iloc[x.name] = 1\n",
    "        else:\n",
    "            df[ls[z]].iloc[x.name] = 1\n",
    "    return"
   ],
   "metadata": {
    "collapsed": false,
    "pycharm": {
     "name": "#%%\n"
    }
   }
  },
  {
   "cell_type": "code",
   "execution_count": 12,
   "outputs": [],
   "source": [
    "for x in json_cols:\n",
    "    df[[x]].apply(clean_json2, axis=1)"
   ],
   "metadata": {
    "collapsed": false,
    "pycharm": {
     "name": "#%%\n"
    }
   }
  },
  {
   "cell_type": "markdown",
   "source": [
    "## Export Data so that it can be used for modeling / visualization"
   ],
   "metadata": {
    "collapsed": false,
    "pycharm": {
     "name": "#%% md\n"
    }
   }
  },
  {
   "cell_type": "code",
   "execution_count": 13,
   "outputs": [],
   "source": [
    "#Data seems clean enough\n",
    "path2 = 'clean_data_large.csv'\n",
    "df.to_csv(path2)"
   ],
   "metadata": {
    "collapsed": false,
    "pycharm": {
     "name": "#%%\n"
    }
   }
  },
  {
   "cell_type": "code",
   "execution_count": null,
   "outputs": [],
   "source": [],
   "metadata": {
    "collapsed": false,
    "pycharm": {
     "name": "#%%\n"
    }
   }
  }
 ],
 "metadata": {
  "kernelspec": {
   "display_name": "Python 3",
   "language": "python",
   "name": "python3"
  },
  "language_info": {
   "codemirror_mode": {
    "name": "ipython",
    "version": 2
   },
   "file_extension": ".py",
   "mimetype": "text/x-python",
   "name": "python",
   "nbconvert_exporter": "python",
   "pygments_lexer": "ipython2",
   "version": "2.7.6"
  }
 },
 "nbformat": 4,
 "nbformat_minor": 0
}